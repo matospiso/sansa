{
 "cells": [
  {
   "cell_type": "code",
   "execution_count": 1,
   "metadata": {},
   "outputs": [],
   "source": [
    "import json\n",
    "import os\n",
    "import pandas as pd"
   ]
  },
  {
   "cell_type": "code",
   "execution_count": 9,
   "metadata": {},
   "outputs": [],
   "source": [
    "dicts = []\n",
    "for p in os.listdir(\"results\"):\n",
    "    dicts.append(json.load(open(f\"results/{p}\")))\n",
    "\n",
    "m = []\n",
    "d = []\n",
    "r20 = []\n",
    "n20 = []\n",
    "train_time = []\n",
    "for di in dicts:\n",
    "    model = di[\"model\"][\"general\"][\"model\"]\n",
    "    if model == \"SANSA\":\n",
    "        density = 2 * di[\"model\"][\"model_specific\"][\"target_density\"]\n",
    "    else:\n",
    "        r = di[\"model\"][\"model_specific\"][\"rr\"]\n",
    "        model = f\"{model} (r={r})\"\n",
    "        density = di[\"performance\"][\"memory\"][\"density\"]\n",
    "    d.append(round(100 * density, 4))\n",
    "    \n",
    "    m.append(model)\n",
    "    r20.append(round(di[\"results\"][\"20\"][\"recall BARS\"][\"mean\"], 6))\n",
    "    n20.append(round(di[\"results\"][\"20\"][\"ndcg\"][\"mean\"], 6))\n",
    "    train_time.append(round(di[\"performance\"][\"time\"][\"construct_weights_time\"], 2))\n",
    "\n",
    "df = pd.DataFrame(\n",
    "    {\n",
    "        \"model\": m,\n",
    "        \"d (%)\": d,\n",
    "        \"r@20\": r20,\n",
    "        \"n@20\": n20,\n",
    "        \"train (s)\": train_time,\n",
    "    }\n",
    ")\n",
    "\n",
    "df = df.sort_values(\n",
    "    by=[\"model\"], ascending=[True]\n",
    ").reset_index(drop=True)"
   ]
  },
  {
   "cell_type": "code",
   "execution_count": 10,
   "metadata": {},
   "outputs": [
    {
     "data": {
      "text/html": [
       "<div>\n",
       "<style scoped>\n",
       "    .dataframe tbody tr th:only-of-type {\n",
       "        vertical-align: middle;\n",
       "    }\n",
       "\n",
       "    .dataframe tbody tr th {\n",
       "        vertical-align: top;\n",
       "    }\n",
       "\n",
       "    .dataframe thead th {\n",
       "        text-align: right;\n",
       "    }\n",
       "</style>\n",
       "<table border=\"1\" class=\"dataframe\">\n",
       "  <thead>\n",
       "    <tr style=\"text-align: right;\">\n",
       "      <th></th>\n",
       "      <th>model</th>\n",
       "      <th>d (%)</th>\n",
       "      <th>r@20</th>\n",
       "      <th>n@20</th>\n",
       "      <th>train (s)</th>\n",
       "    </tr>\n",
       "  </thead>\n",
       "  <tbody>\n",
       "    <tr>\n",
       "      <th>0</th>\n",
       "      <td>MRF (r=0)</td>\n",
       "      <td>0.0104</td>\n",
       "      <td>0.071225</td>\n",
       "      <td>0.057623</td>\n",
       "      <td>172.17</td>\n",
       "    </tr>\n",
       "    <tr>\n",
       "      <th>1</th>\n",
       "      <td>MRF (r=0.5)</td>\n",
       "      <td>0.0104</td>\n",
       "      <td>0.068619</td>\n",
       "      <td>0.055376</td>\n",
       "      <td>166.83</td>\n",
       "    </tr>\n",
       "    <tr>\n",
       "      <th>2</th>\n",
       "      <td>SANSA</td>\n",
       "      <td>0.0100</td>\n",
       "      <td>0.076802</td>\n",
       "      <td>0.063726</td>\n",
       "      <td>49.38</td>\n",
       "    </tr>\n",
       "  </tbody>\n",
       "</table>\n",
       "</div>"
      ],
      "text/plain": [
       "         model   d (%)      r@20      n@20  train (s)\n",
       "0    MRF (r=0)  0.0104  0.071225  0.057623     172.17\n",
       "1  MRF (r=0.5)  0.0104  0.068619  0.055376     166.83\n",
       "2        SANSA  0.0100  0.076802  0.063726      49.38"
      ]
     },
     "execution_count": 10,
     "metadata": {},
     "output_type": "execute_result"
    }
   ],
   "source": [
    "df"
   ]
  }
 ],
 "metadata": {
  "kernelspec": {
   "display_name": "sansa-nomkl",
   "language": "python",
   "name": "python3"
  },
  "language_info": {
   "codemirror_mode": {
    "name": "ipython",
    "version": 3
   },
   "file_extension": ".py",
   "mimetype": "text/x-python",
   "name": "python",
   "nbconvert_exporter": "python",
   "pygments_lexer": "ipython3",
   "version": "3.10.9"
  },
  "orig_nbformat": 4
 },
 "nbformat": 4,
 "nbformat_minor": 2
}
